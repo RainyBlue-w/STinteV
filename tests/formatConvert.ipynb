{
 "cells": [
  {
   "cell_type": "code",
   "execution_count": 1,
   "metadata": {},
   "outputs": [
    {
     "name": "stdout",
     "output_type": "stream",
     "text": [
      "稀疏矩阵的类型: <class 'scipy.sparse._coo.coo_matrix'>\n",
      "稀疏矩阵的维度: (32285, 15850)\n",
      "稀疏矩阵的非零元素个数: 54751167\n"
     ]
    }
   ],
   "source": [
    "from scipy.io import mmread\n",
    "\n",
    "# 指定文件路径\n",
    "mtx_file = '/home/zhouyb/pyProject/multi_page/omics-viewer/Test/data/counts.mtx'\n",
    "\n",
    "# 使用 mmread 函数读取稀疏矩阵\n",
    "sparse_matrix = mmread(mtx_file)\n",
    "\n",
    "# 打印稀疏矩阵的一些信息\n",
    "print(\"稀疏矩阵的类型:\", type(sparse_matrix))\n",
    "print(\"稀疏矩阵的维度:\", sparse_matrix.shape)\n",
    "print(\"稀疏矩阵的非零元素个数:\", sparse_matrix.nnz)"
   ]
  },
  {
   "cell_type": "code",
   "execution_count": 1,
   "metadata": {},
   "outputs": [
    {
     "name": "stdout",
     "output_type": "stream",
     "text": [
      "稀疏矩阵的类型: <class 'scipy.sparse._coo.coo_matrix'>\n",
      "稀疏矩阵的维度: (15850, 32285)\n",
      "稀疏矩阵的非零元素个数: 54751167\n"
     ]
    }
   ],
   "source": [
    "from scipy.io import mmread\n",
    "\n",
    "# 指定文件路径\n",
    "mtx_file = '/home/zhouyb/pyProject/multi_page/omics-viewer/Test/data/counts.mtx'\n",
    "\n",
    "# 使用 mmread 函数读取稀疏矩阵\n",
    "sparse_matrix = mmread(mtx_file)\n",
    "\n",
    "# 打印稀疏矩阵的一些信息\n",
    "print(\"稀疏矩阵的类型:\", type(sparse_matrix))\n",
    "print(\"稀疏矩阵的维度:\", sparse_matrix.shape)\n",
    "print(\"稀疏矩阵的非零元素个数:\", sparse_matrix.nnz)"
   ]
  },
  {
   "cell_type": "code",
   "execution_count": 2,
   "metadata": {},
   "outputs": [],
   "source": [
    "row_indices = sparse_matrix.row\n",
    "col_indices = sparse_matrix.col"
   ]
  },
  {
   "cell_type": "code",
   "execution_count": 3,
   "metadata": {},
   "outputs": [
    {
     "name": "stdout",
     "output_type": "stream",
     "text": [
      "稀疏矩阵的行索引: [   10    16    24 ... 32207 32221 32284]\n",
      "稀疏矩阵的列索引: [    0     0     0 ... 15849 15849 15849]\n"
     ]
    }
   ],
   "source": [
    "print(\"稀疏矩阵的行索引:\", row_indices)\n",
    "print(\"稀疏矩阵的列索引:\", col_indices)"
   ]
  }
 ],
 "metadata": {
  "kernelspec": {
   "display_name": "dash_dev",
   "language": "python",
   "name": "dash_dev"
  },
  "language_info": {
   "codemirror_mode": {
    "name": "ipython",
    "version": 3
   },
   "file_extension": ".py",
   "mimetype": "text/x-python",
   "name": "python",
   "nbconvert_exporter": "python",
   "pygments_lexer": "ipython3",
   "version": "3.11.6"
  }
 },
 "nbformat": 4,
 "nbformat_minor": 2
}
