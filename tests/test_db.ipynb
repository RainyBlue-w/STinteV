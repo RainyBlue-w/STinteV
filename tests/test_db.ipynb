{
 "cells": [
  {
   "cell_type": "code",
   "execution_count": 1,
   "metadata": {},
   "outputs": [],
   "source": [
    "import sqlite3"
   ]
  },
  {
   "cell_type": "code",
   "execution_count": 2,
   "metadata": {},
   "outputs": [],
   "source": [
    "db = \"/rad/share/omics-viewer/stintev/auth.db\""
   ]
  },
  {
   "cell_type": "code",
   "execution_count": 4,
   "metadata": {},
   "outputs": [],
   "source": [
    "conn = sqlite3.connect(db)\n",
    "cursor = conn.cursor()"
   ]
  },
  {
   "cell_type": "code",
   "execution_count": 29,
   "metadata": {},
   "outputs": [],
   "source": [
    "cursor.execute(r'select * from user_account;')\n",
    "account = cursor.fetchall()"
   ]
  },
  {
   "cell_type": "code",
   "execution_count": 30,
   "metadata": {},
   "outputs": [
    {
     "name": "stdout",
     "output_type": "stream",
     "text": [
      "('admin', 'admin', '220222256@qq.com', '72fad20d53965ba5ed36f3a280f7ff2d', 'admin')\n",
      "('wuc', 'wuc', '1078497976@qq.com', '72fad20d53965ba5ed36f3a280f7ff2d', 'normal')\n",
      "('test', 'test', '1078497976@qq.com', 'ec6a6536ca304edf844d1d248a4f08dc', 'normal')\n",
      "('test1', 'test1', '1078497976@qq.com', 'ec6a6536ca304edf844d1d248a4f08dc', 'normal')\n",
      "('test2', 'test2', '1078497976@qq.com', 'ec6a6536ca304edf844d1d248a4f08dc', 'normal')\n",
      "('test3', 'test3', '1078497976@qq.com', 'ec6a6536ca304edf844d1d248a4f08dc', 'normal')\n",
      "('test4', 'test4', '107849796@qq.com', '9992295627e7e7162bdf77f14734acf8', 'normal')\n",
      "('test5', 'test5', '123', 'd9b1d7db4cd6e70935368a1efb10e377', 'normal')\n",
      "('test6', 'test6', 'test5', 'd49e2308dbb6284b689caa4079cd4b67', 'normal')\n",
      "('wuc1', 'wuc1', '1078497976@qq.com', 'aa1027d9ed2453345ef36a7fc56a3b10', 'normal')\n",
      "('wuc2', 'wuc2', '1078497976@qq.com', 'aa1027d9ed2453345ef36a7fc56a3b10', 'normal')\n",
      "('wuc3', 'wuc3', '1078497976@qq.com', '779ccaa021215b7d06b0cfa3c5fbefcc', 'normal')\n",
      "('wuc12345', 'wuc12345', 'wocaonima@qq.com', '72fad20d53965ba5ed36f3a280f7ff2d', 'normal')\n"
     ]
    }
   ],
   "source": [
    "for item in account:\n",
    "    print(item)"
   ]
  },
  {
   "cell_type": "code",
   "execution_count": 31,
   "metadata": {},
   "outputs": [
    {
     "data": {
      "text/plain": [
       "<sqlite3.Cursor at 0x7f2f05dcda40>"
      ]
     },
     "execution_count": 31,
     "metadata": {},
     "output_type": "execute_result"
    }
   ],
   "source": [
    "cursor.execute(f\"delete from user_account where id = 'zhouyb';\")"
   ]
  },
  {
   "cell_type": "code",
   "execution_count": 33,
   "metadata": {},
   "outputs": [],
   "source": [
    "conn.commit()"
   ]
  }
 ],
 "metadata": {
  "kernelspec": {
   "display_name": "dash_dev",
   "language": "python",
   "name": "dash_dev"
  },
  "language_info": {
   "codemirror_mode": {
    "name": "ipython",
    "version": 3
   },
   "file_extension": ".py",
   "mimetype": "text/x-python",
   "name": "python",
   "nbconvert_exporter": "python",
   "pygments_lexer": "ipython3",
   "version": "3.11.6"
  }
 },
 "nbformat": 4,
 "nbformat_minor": 2
}
